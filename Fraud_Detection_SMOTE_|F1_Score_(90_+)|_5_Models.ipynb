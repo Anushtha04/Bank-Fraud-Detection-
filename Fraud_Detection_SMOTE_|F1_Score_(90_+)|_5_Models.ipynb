{
  "metadata": {
    "kernelspec": {
      "language": "python",
      "display_name": "Python 3",
      "name": "python3"
    },
    "language_info": {
      "pygments_lexer": "ipython3",
      "nbconvert_exporter": "python",
      "version": "3.6.4",
      "file_extension": ".py",
      "codemirror_mode": {
        "name": "ipython",
        "version": 3
      },
      "name": "python",
      "mimetype": "text/x-python"
    },
    "colab": {
      "name": "Fraud Detection : SMOTE |F1 Score (90%+)| 5 Models",
      "provenance": [],
      "include_colab_link": true
    }
  },
  "nbformat_minor": 0,
  "nbformat": 4,
  "cells": [
    {
      "cell_type": "markdown",
      "metadata": {
        "id": "view-in-github",
        "colab_type": "text"
      },
      "source": [
        "<a href=\"https://colab.research.google.com/github/Anushtha04/Bank-Fraud-Detection-/blob/main/Fraud_Detection_SMOTE_%7CF1_Score_(90_%2B)%7C_5_Models.ipynb\" target=\"_parent\"><img src=\"https://colab.research.google.com/assets/colab-badge.svg\" alt=\"Open In Colab\"/></a>"
      ]
    },
    {
      "source": [
        "# IMPORTANT: RUN THIS CELL IN ORDER TO IMPORT YOUR KAGGLE DATA SOURCES,\n",
        "# THEN FEEL FREE TO DELETE THIS CELL.\n",
        "# NOTE: THIS NOTEBOOK ENVIRONMENT DIFFERS FROM KAGGLE'S PYTHON\n",
        "# ENVIRONMENT SO THERE MAY BE MISSING LIBRARIES USED BY YOUR\n",
        "# NOTEBOOK.\n",
        "import kagglehub\n",
        "organizations_mlg_ulb_creditcardfraud_path = kagglehub.dataset_download('organizations/mlg-ulb/creditcardfraud')\n",
        "\n",
        "print('Data source import complete.')\n"
      ],
      "metadata": {
        "id": "S_x_qb6J8VZU"
      },
      "cell_type": "code",
      "outputs": [],
      "execution_count": null
    },
    {
      "cell_type": "markdown",
      "source": [
        "# <h1 style=\"font-family: Trebuchet MS; padding: 20px; font-size: 40px; color: #FFD700; text-align: center; line-height: 0.55;background-color: #3B3B3C\"><b>Credit Card Fraud Detection</b><br></h1>"
      ],
      "metadata": {
        "id": "mSIdbBh58VZX"
      }
    },
    {
      "cell_type": "markdown",
      "source": [
        "<center>\n",
        "    <img src=\"https://miro.medium.com/max/800/1*MZ0Qqk7xtHdvJJbUTu_1CQ.jpeg\" alt=\"Credit Card Fraud Detection\" width=\"50%\">\n",
        "</center>\n",
        "\n",
        "### Problem Statement :\n",
        "\n",
        "Credit Card Frauds are the cases of using someone else's credit cards for financial transactions without the information of the card owner. Credit Cards were made available inorder for the people to increase their buying power, it is an agreement with your bank that lets the user use the money lended by the bank in exchange for the repayment of this lended money on the due date or incur interest charges. With the rise in the e-commerce and the recent boom of OTT platforms during the Coronavirus Pandemic, use of credit cards has risen exponentially along with other payment processes. As all the things in the nature are binary, cases of credit card frauds has also achieved high numbers. Global economy pays the price of more than \\\\$ 24 billion per year due to these frauds. Thus, it becomes essential to solve this problem and as a result a lot of startups have been born into this \\\\$ 30 billion industry. Thus, building automated models for such a rising problem statement is necessary and AI - ML is the key for it!     \n",
        "\n",
        "### Aim :\n",
        "- To classify whether a credit card transaction is fradulent or genuine and handle unbalanced dataset.\n",
        "- It is a **binary classification** problem with highly unbalanced data."
      ],
      "metadata": {
        "id": "B39SKqFL8VZY"
      }
    },
    {
      "cell_type": "markdown",
      "source": [
        "### <center>Dataset Attributes</center>\n",
        "    \n",
        "- **V1 - V28** : Numerical features that are a result of PCA transformation.\n",
        "\n",
        "- **Time** : Seconds elapsed between each transaction and the 1st transaction.\n",
        "\n",
        "- **Amount** : Transaction amount.\n",
        "\n",
        "- **Class** : Fraud or otherwise (1 or 0)"
      ],
      "metadata": {
        "id": "Q0JUnqZL8VZZ"
      }
    },
    {
      "cell_type": "markdown",
      "source": [
        "### Notebook Contents :\n",
        "- Dataset Information\n",
        "- Data Visualization\n",
        "- Feature Selection\n",
        "- Data Balancing\n",
        "- Modeling\n",
        "- Conclusion\n",
        "\n",
        "### What you will learn :\n",
        "- Data Balancing using SMOTE.\n",
        "- Statistical Tests for Feature Selection.\n",
        "- Model comparison based on features selected based on statistical tests.\n",
        "- Modeling and visualization of results for algorithms.\n",
        "\n",
        "### Related Work :\n",
        "\n",
        "- [Binary Classification](https://www.kaggle.com/competitions/titanic/discussion/352223) **: It is a discussion post that describes the approach required to deal with Binary Classification problems explained through notebooks that contain work done on datasets with easy and understandable code explanation!**\n",
        "- [Time Series Analysis](https://www.kaggle.com/competitions/store-sales-time-series-forecasting/discussion/352205) **: It is a discussion post that describes the basics of Time Series Analysis explained through notebooks that contain work done on datasets with easy and understandable code explanation!**\n",
        "- [Unsupervised Learning](https://www.kaggle.com/code/tanmay111999/mall-customer-segmentation-k-means-eda) **:It is a notebook that describes the work on Unsupervised Learning problem using K-Means clustering algorithm!**\n",
        "\n",
        "### Lets get started!"
      ],
      "metadata": {
        "id": "SOPqhUgk8VZZ"
      }
    },
    {
      "cell_type": "markdown",
      "source": [
        "# <center><div style=\"font-family: Trebuchet MS; background-color: #3B3B3C; color: #FFD700; padding: 12px; line-height: 1;\">Dataset Information</div></center>"
      ],
      "metadata": {
        "id": "afbqgrKN8VZa"
      }
    },
    {
      "cell_type": "markdown",
      "source": [
        "### Import the Necessary Libraries :"
      ],
      "metadata": {
        "id": "23AdUnPw8VZa"
      }
    },
    {
      "cell_type": "code",
      "source": [
        "import pandas as pd\n",
        "import numpy as np\n",
        "import matplotlib.pyplot as plt\n",
        "import seaborn as sns\n",
        "%matplotlib inline\n",
        "pd.options.display.float_format = '{:.2f}'.format"
      ],
      "metadata": {
        "execution": {
          "iopub.status.busy": "2022-10-15T08:23:14.786225Z",
          "iopub.execute_input": "2022-10-15T08:23:14.786953Z",
          "iopub.status.idle": "2022-10-15T08:23:15.910822Z",
          "shell.execute_reply.started": "2022-10-15T08:23:14.786904Z",
          "shell.execute_reply": "2022-10-15T08:23:15.909568Z"
        },
        "trusted": true,
        "id": "hr3UNG_88VZa"
      },
      "execution_count": null,
      "outputs": []
    },
    {
      "cell_type": "code",
      "source": [
        "data = pd.read_csv('../input/creditcardfraud/creditcard.csv')\n",
        "data.head()"
      ],
      "metadata": {
        "execution": {
          "iopub.status.busy": "2022-10-15T08:23:15.913694Z",
          "iopub.execute_input": "2022-10-15T08:23:15.914191Z",
          "iopub.status.idle": "2022-10-15T08:23:20.883097Z",
          "shell.execute_reply.started": "2022-10-15T08:23:15.914139Z",
          "shell.execute_reply": "2022-10-15T08:23:20.882134Z"
        },
        "trusted": true,
        "id": "tFeCzRAx8VZa"
      },
      "execution_count": null,
      "outputs": []
    },
    {
      "cell_type": "markdown",
      "source": [
        "### Data Info :"
      ],
      "metadata": {
        "id": "xrIPIz5H8VZb"
      }
    },
    {
      "cell_type": "code",
      "source": [
        "data.shape"
      ],
      "metadata": {
        "execution": {
          "iopub.status.busy": "2022-10-15T08:23:20.884407Z",
          "iopub.execute_input": "2022-10-15T08:23:20.884874Z",
          "iopub.status.idle": "2022-10-15T08:23:20.891141Z",
          "shell.execute_reply.started": "2022-10-15T08:23:20.884839Z",
          "shell.execute_reply": "2022-10-15T08:23:20.889993Z"
        },
        "trusted": true,
        "id": "Cf8nc6Z78VZb"
      },
      "execution_count": null,
      "outputs": []
    },
    {
      "cell_type": "code",
      "source": [
        "data.columns"
      ],
      "metadata": {
        "scrolled": true,
        "execution": {
          "iopub.status.busy": "2022-10-15T08:23:20.892303Z",
          "iopub.execute_input": "2022-10-15T08:23:20.892656Z",
          "iopub.status.idle": "2022-10-15T08:23:20.915233Z",
          "shell.execute_reply.started": "2022-10-15T08:23:20.892603Z",
          "shell.execute_reply": "2022-10-15T08:23:20.913477Z"
        },
        "trusted": true,
        "id": "wtxuGTLc8VZb"
      },
      "execution_count": null,
      "outputs": []
    },
    {
      "cell_type": "code",
      "source": [
        "data.info()"
      ],
      "metadata": {
        "execution": {
          "iopub.status.busy": "2022-10-15T08:23:20.919917Z",
          "iopub.execute_input": "2022-10-15T08:23:20.920507Z",
          "iopub.status.idle": "2022-10-15T08:23:20.974159Z",
          "shell.execute_reply.started": "2022-10-15T08:23:20.920464Z",
          "shell.execute_reply": "2022-10-15T08:23:20.972857Z"
        },
        "trusted": true,
        "id": "5uV24SMp8VZc"
      },
      "execution_count": null,
      "outputs": []
    },
    {
      "cell_type": "code",
      "source": [
        "sns.heatmap(data.isnull(),cmap = 'magma',cbar = False)"
      ],
      "metadata": {
        "execution": {
          "iopub.status.busy": "2022-10-15T08:23:20.977864Z",
          "iopub.execute_input": "2022-10-15T08:23:20.978272Z",
          "iopub.status.idle": "2022-10-15T08:23:28.669957Z",
          "shell.execute_reply.started": "2022-10-15T08:23:20.978235Z",
          "shell.execute_reply": "2022-10-15T08:23:28.668704Z"
        },
        "trusted": true,
        "id": "3jvUYegn8VZc"
      },
      "execution_count": null,
      "outputs": []
    },
    {
      "cell_type": "markdown",
      "source": [
        "- **No null values** present in the data!"
      ],
      "metadata": {
        "id": "CpP1ONWz8VZd"
      }
    },
    {
      "cell_type": "code",
      "source": [
        "data.describe()"
      ],
      "metadata": {
        "execution": {
          "iopub.status.busy": "2022-10-15T08:23:28.672011Z",
          "iopub.execute_input": "2022-10-15T08:23:28.672387Z",
          "iopub.status.idle": "2022-10-15T08:23:29.165674Z",
          "shell.execute_reply.started": "2022-10-15T08:23:28.672348Z",
          "shell.execute_reply": "2022-10-15T08:23:29.164642Z"
        },
        "trusted": true,
        "id": "O-TQrk9m8VZd"
      },
      "execution_count": null,
      "outputs": []
    },
    {
      "cell_type": "code",
      "source": [
        "fraud = data[data['Class'] == 1].describe().T\n",
        "nofraud = data[data['Class'] == 0].describe().T\n",
        "\n",
        "colors = ['#FFD700','#3B3B3C']\n",
        "\n",
        "fig,ax = plt.subplots(nrows = 2,ncols = 2,figsize = (5,15))\n",
        "plt.subplot(2,2,1)\n",
        "sns.heatmap(fraud[['mean']][:15],annot = True,cmap = colors,linewidths = 0.5,linecolor = 'black',cbar = False,fmt = '.2f')\n",
        "plt.title('Fraud Samples : Part 1');\n",
        "\n",
        "plt.subplot(2,2,2)\n",
        "sns.heatmap(fraud[['mean']][15:30],annot = True,cmap = colors,linewidths = 0.5,linecolor = 'black',cbar = False,fmt = '.2f')\n",
        "plt.title('Fraud Samples : Part 2');\n",
        "\n",
        "plt.subplot(2,2,3)\n",
        "sns.heatmap(nofraud[['mean']][:15],annot = True,cmap = colors,linewidths = 0.5,linecolor = 'black',cbar = False,fmt = '.2f')\n",
        "plt.title('No Fraud Samples : Part 1');\n",
        "\n",
        "plt.subplot(2,2,4)\n",
        "sns.heatmap(nofraud[['mean']][15:30],annot = True,cmap = colors,linewidths = 0.5,linecolor = 'black',cbar = False,fmt = '.2f')\n",
        "plt.title('No Fraud Samples : Part 2');\n",
        "\n",
        "fig.tight_layout(w_pad = 2)"
      ],
      "metadata": {
        "execution": {
          "iopub.status.busy": "2022-10-15T08:23:29.167174Z",
          "iopub.execute_input": "2022-10-15T08:23:29.167505Z",
          "iopub.status.idle": "2022-10-15T08:23:31.073637Z",
          "shell.execute_reply.started": "2022-10-15T08:23:29.167463Z",
          "shell.execute_reply": "2022-10-15T08:23:31.072625Z"
        },
        "trusted": true,
        "id": "zYp5Dgwa8VZd"
      },
      "execution_count": null,
      "outputs": []
    },
    {
      "cell_type": "markdown",
      "source": [
        "- **Mean** values of features for **Fraud** & **No Fraud** cases!\n",
        "- For **No Fraud** cases, **V1 - V28** mean values are almost **0** for all the cases. Mean **Amount**, 88.29, is less than the mean transaction amount, 122.21, of the **Fraud** cases.\n",
        "- **Time** taken for **No Fraud** transactions is more than those for **Fraud** transactions.\n",
        "- These could be some of the indicators for detecting **fraud** transactions."
      ],
      "metadata": {
        "id": "-hdCL79c8VZd"
      }
    },
    {
      "cell_type": "markdown",
      "source": [
        "# <center><div style=\"font-family: Trebuchet MS; background-color: #3B3B3C; color: #FFD700; padding: 12px; line-height: 1;\">Data Visualization</div></center>"
      ],
      "metadata": {
        "id": "Ao7Aum598VZd"
      }
    },
    {
      "cell_type": "markdown",
      "source": [
        "### Target Variable Visualization (Class) :"
      ],
      "metadata": {
        "id": "tQWsj_Yu8VZe"
      }
    },
    {
      "cell_type": "code",
      "source": [
        "fraud = len(data[data['Class'] == 1]) / len(data) * 100\n",
        "nofraud = len(data[data['Class'] == 0]) / len(data) * 100\n",
        "fraud_percentage = [nofraud,fraud]\n",
        "\n",
        "fig,ax = plt.subplots(nrows = 1,ncols = 2,figsize = (20,5))\n",
        "plt.subplot(1,2,1)\n",
        "plt.pie(fraud_percentage,labels = ['Fraud','No Fraud'],autopct='%1.1f%%',startangle = 90,colors = colors,\n",
        "       wedgeprops = {'edgecolor' : 'black','linewidth': 1,'antialiased' : True})\n",
        "\n",
        "plt.subplot(1,2,2)\n",
        "ax = sns.countplot('Class',data = data,edgecolor = 'black',palette = colors)\n",
        "for rect in ax.patches:\n",
        "    ax.text(rect.get_x() + rect.get_width() / 2, rect.get_height() + 2, rect.get_height(), horizontalalignment='center', fontsize = 11)\n",
        "ax.set_xticklabels(['No Fraud','Fraud'])\n",
        "plt.title('Number of Fraud Cases');"
      ],
      "metadata": {
        "execution": {
          "iopub.status.busy": "2022-10-15T08:23:31.074977Z",
          "iopub.execute_input": "2022-10-15T08:23:31.0753Z",
          "iopub.status.idle": "2022-10-15T08:23:31.342061Z",
          "shell.execute_reply.started": "2022-10-15T08:23:31.075268Z",
          "shell.execute_reply": "2022-10-15T08:23:31.341062Z"
        },
        "trusted": true,
        "id": "U2ijklzp8VZe"
      },
      "execution_count": null,
      "outputs": []
    },
    {
      "cell_type": "markdown",
      "source": [
        "- The data is clearly **highly unbalanced** with majority of the transactions being **No Fraud**.\n",
        "- Due to highly unbalanced data, the classification model will bias its prediction towards the majority class, **No Fraud**.\n",
        "- Hence, data balancing becomes a crucial part in building a robust model."
      ],
      "metadata": {
        "id": "Hm1ev14v8VZe"
      }
    },
    {
      "cell_type": "markdown",
      "source": [
        "# <center><div style=\"font-family: Trebuchet MS; background-color: #3B3B3C; color: #FFD700; padding: 12px; line-height: 1;\">Feature Selection</div></center>"
      ],
      "metadata": {
        "id": "tsiSvpcX8VZe"
      }
    },
    {
      "cell_type": "markdown",
      "source": [
        "### Correlation Matrix :"
      ],
      "metadata": {
        "id": "yuirtyzk8VZf"
      }
    },
    {
      "cell_type": "code",
      "source": [
        "sns.heatmap(data.corr(),cmap = colors,cbar = True)"
      ],
      "metadata": {
        "execution": {
          "iopub.status.busy": "2022-10-15T08:23:31.344011Z",
          "iopub.execute_input": "2022-10-15T08:23:31.344348Z",
          "iopub.status.idle": "2022-10-15T08:23:32.297763Z",
          "shell.execute_reply.started": "2022-10-15T08:23:31.344317Z",
          "shell.execute_reply": "2022-10-15T08:23:32.296562Z"
        },
        "trusted": true,
        "id": "8gbwNr6y8VZf"
      },
      "execution_count": null,
      "outputs": []
    },
    {
      "cell_type": "markdown",
      "source": [
        "- There are too many features in the dataset and it is difficult to understand anything.\n",
        "- Hence, we will plot the correlation map only with the target variable."
      ],
      "metadata": {
        "id": "6jSlwidA8VZf"
      }
    },
    {
      "cell_type": "code",
      "source": [
        "corr = data.corrwith(data['Class']).sort_values(ascending = False).to_frame()\n",
        "corr.columns = ['Correlation']\n",
        "fig,ax = plt.subplots(nrows = 1,ncols = 2,figsize = (5,10))\n",
        "\n",
        "plt.subplot(1,2,1)\n",
        "sns.heatmap(corr.iloc[:15,:],annot = True,cmap = colors,linewidths = 0.4,linecolor = 'black',cbar = False)\n",
        "plt.title('Part 1')\n",
        "\n",
        "plt.subplot(1,2,2)\n",
        "sns.heatmap(corr.iloc[15:30],annot = True,cmap = colors,linewidths = 0.4,linecolor = 'black',cbar = False)\n",
        "plt.title('Part 2')\n",
        "\n",
        "fig.tight_layout(w_pad = 2)"
      ],
      "metadata": {
        "execution": {
          "iopub.status.busy": "2022-10-15T08:23:32.299243Z",
          "iopub.execute_input": "2022-10-15T08:23:32.299586Z",
          "iopub.status.idle": "2022-10-15T08:23:32.982941Z",
          "shell.execute_reply.started": "2022-10-15T08:23:32.299554Z",
          "shell.execute_reply": "2022-10-15T08:23:32.981569Z"
        },
        "trusted": true,
        "id": "Q63dENkg8VZf"
      },
      "execution_count": null,
      "outputs": []
    },
    {
      "cell_type": "markdown",
      "source": [
        "- For feature selection, we will **exclude** the features having correlation values between **[-0.1,0.1]**.\n",
        "- V4, V11 are positively correlated and V7, V3, V16, V10, V12, V14, V17 are negatively correlated with the **Class** feature."
      ],
      "metadata": {
        "id": "XEvaJNiV8VZf"
      }
    },
    {
      "cell_type": "markdown",
      "source": [
        "### ANOVA Test :"
      ],
      "metadata": {
        "id": "fLdlIfXH8VZg"
      }
    },
    {
      "cell_type": "code",
      "source": [
        "from sklearn.feature_selection import SelectKBest\n",
        "from sklearn.feature_selection import f_classif"
      ],
      "metadata": {
        "execution": {
          "iopub.status.busy": "2022-10-15T08:23:32.985172Z",
          "iopub.execute_input": "2022-10-15T08:23:32.985661Z",
          "iopub.status.idle": "2022-10-15T08:23:33.257589Z",
          "shell.execute_reply.started": "2022-10-15T08:23:32.985591Z",
          "shell.execute_reply": "2022-10-15T08:23:33.256781Z"
        },
        "trusted": true,
        "id": "wHIwJ6uI8VZg"
      },
      "execution_count": null,
      "outputs": []
    },
    {
      "cell_type": "code",
      "source": [
        "features = data.loc[:,:'Amount']\n",
        "target = data.loc[:,'Class']\n",
        "\n",
        "best_features = SelectKBest(score_func = f_classif,k = 'all')\n",
        "fit = best_features.fit(features,target)\n",
        "\n",
        "featureScores = pd.DataFrame(data = fit.scores_,index = list(features.columns),columns = ['ANOVA Score'])\n",
        "featureScores = featureScores.sort_values(ascending = False,by = 'ANOVA Score')\n",
        "\n",
        "fig,ax = plt.subplots(nrows = 1,ncols = 2,figsize = (5,10))\n",
        "\n",
        "plt.subplot(1,2,1)\n",
        "sns.heatmap(featureScores.iloc[:15,:],annot = True,cmap = colors,linewidths = 0.4,linecolor = 'black',cbar = False, fmt = '.2f')\n",
        "plt.title('ANOVA Score : Part 1')\n",
        "\n",
        "plt.subplot(1,2,2)\n",
        "sns.heatmap(featureScores.iloc[15:30],annot = True,cmap = colors,linewidths = 0.4,linecolor = 'black',cbar = False, fmt = '.2f')\n",
        "plt.title('ANOVA Score : Part 2')\n",
        "\n",
        "fig.tight_layout(w_pad = 2)"
      ],
      "metadata": {
        "execution": {
          "iopub.status.busy": "2022-10-15T08:23:33.258707Z",
          "iopub.execute_input": "2022-10-15T08:23:33.259127Z",
          "iopub.status.idle": "2022-10-15T08:23:34.070811Z",
          "shell.execute_reply.started": "2022-10-15T08:23:33.259096Z",
          "shell.execute_reply": "2022-10-15T08:23:34.069707Z"
        },
        "trusted": true,
        "id": "NPICsIfG8VZg"
      },
      "execution_count": null,
      "outputs": []
    },
    {
      "cell_type": "markdown",
      "source": [
        "- Higher the value of the ANOVA score, higher the importance of that feature with the target variable.\n",
        "- From the above plot, we will reject features with values less than 50.\n",
        "- In this case, we will create 2 models based on features selected from the **Correlation Plot** & **ANOVA Score**."
      ],
      "metadata": {
        "id": "fBVMWLF48VZg"
      }
    },
    {
      "cell_type": "markdown",
      "source": [
        "#### Dataset for Model based on Correlation Plot :"
      ],
      "metadata": {
        "id": "lM-ZYw0X8VZh"
      }
    },
    {
      "cell_type": "code",
      "source": [
        "df1 = data[['V3','V4','V7','V10','V11','V12','V14','V16','V17','Class']].copy(deep = True)\n",
        "df1.head()"
      ],
      "metadata": {
        "execution": {
          "iopub.status.busy": "2022-10-15T08:23:34.072907Z",
          "iopub.execute_input": "2022-10-15T08:23:34.073291Z",
          "iopub.status.idle": "2022-10-15T08:23:34.117775Z",
          "shell.execute_reply.started": "2022-10-15T08:23:34.073254Z",
          "shell.execute_reply": "2022-10-15T08:23:34.116399Z"
        },
        "trusted": true,
        "id": "p3F2bgSn8VZh"
      },
      "execution_count": null,
      "outputs": []
    },
    {
      "cell_type": "markdown",
      "source": [
        "#### Dataset for Model based on ANOVA Score :"
      ],
      "metadata": {
        "id": "ep60k2ti8VZh"
      }
    },
    {
      "cell_type": "code",
      "source": [
        "df2 = data.copy(deep = True)\n",
        "df2.drop(columns = list(featureScores.index[20:]),inplace = True)\n",
        "df2.head()"
      ],
      "metadata": {
        "execution": {
          "iopub.status.busy": "2022-10-15T08:23:34.119722Z",
          "iopub.execute_input": "2022-10-15T08:23:34.120197Z",
          "iopub.status.idle": "2022-10-15T08:23:34.218308Z",
          "shell.execute_reply.started": "2022-10-15T08:23:34.120148Z",
          "shell.execute_reply": "2022-10-15T08:23:34.217091Z"
        },
        "trusted": true,
        "id": "DYutCijE8VZh"
      },
      "execution_count": null,
      "outputs": []
    },
    {
      "cell_type": "markdown",
      "source": [
        "# <center><div style=\"font-family: Trebuchet MS; background-color: #3B3B3C; color: #FFD700; padding: 12px; line-height: 1;\">Data Balancing</div></center>\n",
        "\n",
        "- In order to cope with unbalanced data, there are 2 options :\n",
        "\n",
        "    - **Undersampling** : Trim down the majority samples of the target variable.\n",
        "    - **Oversampling** : Increase the minority samples of the target variable to the majority samples.\n",
        "    \n",
        "    \n",
        "- For best performances, we will use the combination of undersampling and oversampling.\n",
        "- First, we will undersample the majority samples and it is followed by oversampling minority samples.\n",
        "- For data balancing, we will use **imblearn**.\n",
        "- **PIP statement** : pip install imbalanced-learn"
      ],
      "metadata": {
        "id": "0iC8Ypdn8VZh"
      }
    },
    {
      "cell_type": "code",
      "source": [
        "import imblearn\n",
        "from collections import Counter\n",
        "from imblearn.over_sampling import SMOTE\n",
        "from imblearn.under_sampling import RandomUnderSampler\n",
        "from imblearn.pipeline import Pipeline"
      ],
      "metadata": {
        "execution": {
          "iopub.status.busy": "2022-10-15T08:23:34.220112Z",
          "iopub.execute_input": "2022-10-15T08:23:34.220598Z",
          "iopub.status.idle": "2022-10-15T08:23:34.625258Z",
          "shell.execute_reply.started": "2022-10-15T08:23:34.220549Z",
          "shell.execute_reply": "2022-10-15T08:23:34.623736Z"
        },
        "trusted": true,
        "id": "xJ1FEAOK8VZi"
      },
      "execution_count": null,
      "outputs": []
    },
    {
      "cell_type": "markdown",
      "source": [
        "#### Data Balancing for Model based on Correlation Plot :"
      ],
      "metadata": {
        "id": "_xVY16nj8VZi"
      }
    },
    {
      "cell_type": "code",
      "source": [
        "over = SMOTE(sampling_strategy = 0.5)\n",
        "under = RandomUnderSampler(sampling_strategy = 0.1)\n",
        "f1 = df1.iloc[:,:9].values\n",
        "t1 = df1.iloc[:,9].values\n",
        "\n",
        "steps = [('under', under),('over', over)]\n",
        "pipeline = Pipeline(steps=steps)\n",
        "f1, t1 = pipeline.fit_resample(f1, t1)\n",
        "Counter(t1)"
      ],
      "metadata": {
        "execution": {
          "iopub.status.busy": "2022-10-15T08:23:34.627326Z",
          "iopub.execute_input": "2022-10-15T08:23:34.628001Z",
          "iopub.status.idle": "2022-10-15T08:23:34.768015Z",
          "shell.execute_reply.started": "2022-10-15T08:23:34.627942Z",
          "shell.execute_reply": "2022-10-15T08:23:34.766813Z"
        },
        "trusted": true,
        "id": "NQef3lU18VZt"
      },
      "execution_count": null,
      "outputs": []
    },
    {
      "cell_type": "markdown",
      "source": [
        "#### Data Balancing for Model based on ANOVA Score :"
      ],
      "metadata": {
        "id": "woqpqhiD8VZt"
      }
    },
    {
      "cell_type": "code",
      "source": [
        "over = SMOTE(sampling_strategy = 0.5)\n",
        "under = RandomUnderSampler(sampling_strategy = 0.1)\n",
        "f2 = df2.iloc[:,:20].values\n",
        "t2 = df2.iloc[:,20].values\n",
        "\n",
        "steps = [('under', under),('over', over)]\n",
        "pipeline = Pipeline(steps=steps)\n",
        "f2, t2 = pipeline.fit_resample(f2, t2)\n",
        "Counter(t2)"
      ],
      "metadata": {
        "execution": {
          "iopub.status.busy": "2022-10-15T08:23:34.769625Z",
          "iopub.execute_input": "2022-10-15T08:23:34.769994Z",
          "iopub.status.idle": "2022-10-15T08:23:34.922711Z",
          "shell.execute_reply.started": "2022-10-15T08:23:34.769959Z",
          "shell.execute_reply": "2022-10-15T08:23:34.921582Z"
        },
        "trusted": true,
        "id": "Miq4dqLL8VZt"
      },
      "execution_count": null,
      "outputs": []
    },
    {
      "cell_type": "markdown",
      "source": [
        "### Calculation for Data Balancing :\n",
        "\n",
        "- **Sampling Strategy** : It is a ratio which is the common paramter for oversampling and undersampling.\n",
        "- **Sampling Strategy** : **( Samples of Minority Class ) / ( Samples of Majority Class )**\n",
        "\n",
        "\n",
        "- In this case,\n",
        "\n",
        "    - **Majority Class : No Fraud Cases** : 284315 samples\n",
        "    - **Minority Class : Fraud Cases** : 492 samples\n",
        "\n",
        "\n",
        "### Undersampling : Trim down the majority class samples\n",
        "\n",
        "- Sampling_Strategy = 0.1\n",
        "- 0.1 = ( 492 ) / Majority Class Samples\n",
        "- After undersampling,\n",
        "\n",
        "    - **Majority Class : No Fraud Cases** : 4920 samples\n",
        "    - **Minority Class : Fraud Cases** : 492 samples\n",
        "\n",
        "\n",
        "### Oversampling : Increase the minority class samples\n",
        "\n",
        "- Sampling_Strategy = 0.5\n",
        "- 0.5 = ( Minority Class Samples ) / 4920\n",
        "- After oversampling,\n",
        "\n",
        "    - **Majority Class : No Fraud Cases** : 4920 samples\n",
        "    - **Minority Class : Fraud Cases** : 2460 samples\n",
        "    \n",
        "\n",
        "- Final Class Samples :\n",
        "\n",
        "    - **Majority Class : No Fraud Cases** : 4920 samples\n",
        "    - **Minority Class : Fraud Cases** : 2460 samples\n",
        "\n",
        "\n",
        "- For imbalanced datasets, we **duplicate the data** to deal with the potential bias in the predictions.\n",
        "- Due to this duplication process, we are using **synthetic data** for modeling purposes to ensure that the predictions are not skewed towards the majority target class value.\n",
        "- Thus, evaluating models using **accuracy** will be misleading. Instead, we will go for **confusion matrix, ROC-AUC graph and ROC-AUC score** for model evaluation."
      ],
      "metadata": {
        "id": "_te3ZSy28VZu"
      }
    },
    {
      "cell_type": "markdown",
      "source": [
        "# <center><div style=\"font-family: Trebuchet MS; background-color: #3B3B3C; color: #FFD700; padding: 12px; line-height: 1;\">Modeling</div></center>"
      ],
      "metadata": {
        "id": "YCblatRc8VZu"
      }
    },
    {
      "cell_type": "code",
      "source": [
        "from sklearn.model_selection import train_test_split\n",
        "from sklearn.metrics import confusion_matrix\n",
        "from sklearn.metrics import roc_auc_score\n",
        "from sklearn.metrics import RocCurveDisplay\n",
        "from sklearn.metrics import plot_roc_curve\n",
        "from sklearn.model_selection import cross_val_score\n",
        "from sklearn.model_selection import GridSearchCV\n",
        "from sklearn.metrics import classification_report\n",
        "from sklearn.model_selection import RepeatedStratifiedKFold\n",
        "from sklearn.metrics import precision_recall_curve"
      ],
      "metadata": {
        "execution": {
          "iopub.status.busy": "2022-10-15T08:23:34.92427Z",
          "iopub.execute_input": "2022-10-15T08:23:34.924709Z",
          "iopub.status.idle": "2022-10-15T08:23:34.932143Z",
          "shell.execute_reply.started": "2022-10-15T08:23:34.924668Z",
          "shell.execute_reply": "2022-10-15T08:23:34.930688Z"
        },
        "trusted": true,
        "id": "l6u_dta58VZu"
      },
      "execution_count": null,
      "outputs": []
    },
    {
      "cell_type": "code",
      "source": [
        "x_train1, x_test1, y_train1, y_test1 = train_test_split(f1, t1, test_size = 0.20, random_state = 2)\n",
        "x_train2, x_test2, y_train2, y_test2 = train_test_split(f2, t2, test_size = 0.20, random_state = 2)"
      ],
      "metadata": {
        "execution": {
          "iopub.status.busy": "2022-10-15T08:23:34.934381Z",
          "iopub.execute_input": "2022-10-15T08:23:34.935038Z",
          "iopub.status.idle": "2022-10-15T08:23:34.952142Z",
          "shell.execute_reply.started": "2022-10-15T08:23:34.934986Z",
          "shell.execute_reply": "2022-10-15T08:23:34.950805Z"
        },
        "trusted": true,
        "id": "F1Oq6UKA8VZv"
      },
      "execution_count": null,
      "outputs": []
    },
    {
      "cell_type": "markdown",
      "source": [
        "- Splitting the data into **80 - 20 train - test** groups."
      ],
      "metadata": {
        "id": "jy8xpq9r8VZv"
      }
    },
    {
      "cell_type": "code",
      "source": [
        "def model(classifier,x_train,y_train,x_test,y_test):\n",
        "\n",
        "    classifier.fit(x_train,y_train)\n",
        "    prediction = classifier.predict(x_test)\n",
        "    cv = RepeatedStratifiedKFold(n_splits = 10,n_repeats = 3,random_state = 1)\n",
        "    print(\"Cross Validation Score : \",'{0:.2%}'.format(cross_val_score(classifier,x_train,y_train,cv = cv,scoring = 'roc_auc').mean()))\n",
        "    print(\"ROC_AUC Score : \",'{0:.2%}'.format(roc_auc_score(y_test,prediction)))\n",
        "    plot_roc_curve(classifier, x_test,y_test)\n",
        "    plt.title('ROC_AUC_Plot')\n",
        "    plt.show()\n",
        "\n",
        "def model_evaluation(classifier,x_test,y_test):\n",
        "\n",
        "    # Confusion Matrix\n",
        "    cm = confusion_matrix(y_test,classifier.predict(x_test))\n",
        "    names = ['True Neg','False Pos','False Neg','True Pos']\n",
        "    counts = [value for value in cm.flatten()]\n",
        "    percentages = ['{0:.2%}'.format(value) for value in cm.flatten()/np.sum(cm)]\n",
        "    labels = [f'{v1}\\n{v2}\\n{v3}' for v1, v2, v3 in zip(names,counts,percentages)]\n",
        "    labels = np.asarray(labels).reshape(2,2)\n",
        "    sns.heatmap(cm,annot = labels,cmap = 'Blues',fmt ='')\n",
        "\n",
        "    # Classification Report\n",
        "    print(classification_report(y_test,classifier.predict(x_test)))"
      ],
      "metadata": {
        "execution": {
          "iopub.status.busy": "2022-10-15T08:23:34.953979Z",
          "iopub.execute_input": "2022-10-15T08:23:34.954387Z",
          "iopub.status.idle": "2022-10-15T08:23:34.970415Z",
          "shell.execute_reply.started": "2022-10-15T08:23:34.954344Z",
          "shell.execute_reply": "2022-10-15T08:23:34.969118Z"
        },
        "trusted": true,
        "id": "pBT8ltP78VZv"
      },
      "execution_count": null,
      "outputs": []
    },
    {
      "cell_type": "markdown",
      "source": [
        "### 1] Logistic Regression :"
      ],
      "metadata": {
        "id": "BjJM-tuf8VZw"
      }
    },
    {
      "cell_type": "code",
      "source": [
        "from sklearn.linear_model import LogisticRegression"
      ],
      "metadata": {
        "execution": {
          "iopub.status.busy": "2022-10-15T08:23:34.972975Z",
          "iopub.execute_input": "2022-10-15T08:23:34.973613Z",
          "iopub.status.idle": "2022-10-15T08:23:34.98317Z",
          "shell.execute_reply.started": "2022-10-15T08:23:34.973544Z",
          "shell.execute_reply": "2022-10-15T08:23:34.981961Z"
        },
        "trusted": true,
        "id": "tRzpBZmZ8VZw"
      },
      "execution_count": null,
      "outputs": []
    },
    {
      "cell_type": "code",
      "source": [
        "classifier_lr = LogisticRegression(random_state = 0,C=10,penalty= 'l2')"
      ],
      "metadata": {
        "execution": {
          "iopub.status.busy": "2022-10-15T08:23:34.985317Z",
          "iopub.execute_input": "2022-10-15T08:23:34.986221Z",
          "iopub.status.idle": "2022-10-15T08:23:34.998133Z",
          "shell.execute_reply.started": "2022-10-15T08:23:34.986137Z",
          "shell.execute_reply": "2022-10-15T08:23:34.996799Z"
        },
        "trusted": true,
        "id": "nq3oUa0E8VZw"
      },
      "execution_count": null,
      "outputs": []
    },
    {
      "cell_type": "markdown",
      "source": [
        "#### Model based on Correlation Plot :"
      ],
      "metadata": {
        "id": "yxidoYUB8VZw"
      }
    },
    {
      "cell_type": "code",
      "source": [
        "model(classifier_lr,x_train1,y_train1,x_test1,y_test1)\n",
        "model_evaluation(classifier_lr,x_test1,y_test1)"
      ],
      "metadata": {
        "execution": {
          "iopub.status.busy": "2022-10-15T08:23:35.000195Z",
          "iopub.execute_input": "2022-10-15T08:23:35.000708Z",
          "iopub.status.idle": "2022-10-15T08:23:36.0229Z",
          "shell.execute_reply.started": "2022-10-15T08:23:35.000655Z",
          "shell.execute_reply": "2022-10-15T08:23:36.021727Z"
        },
        "trusted": true,
        "id": "C09nASdQ8VZw"
      },
      "execution_count": null,
      "outputs": []
    },
    {
      "cell_type": "markdown",
      "source": [
        "#### Model based on ANOVA Score :"
      ],
      "metadata": {
        "id": "FrcuhyG-8VZx"
      }
    },
    {
      "cell_type": "code",
      "source": [
        "model(classifier_lr,x_train2,y_train2,x_test2,y_test2)\n",
        "model_evaluation(classifier_lr,x_test2,y_test2)"
      ],
      "metadata": {
        "execution": {
          "iopub.status.busy": "2022-10-15T08:23:36.024574Z",
          "iopub.execute_input": "2022-10-15T08:23:36.025016Z",
          "iopub.status.idle": "2022-10-15T08:23:38.025296Z",
          "shell.execute_reply.started": "2022-10-15T08:23:36.024982Z",
          "shell.execute_reply": "2022-10-15T08:23:38.024316Z"
        },
        "trusted": true,
        "id": "H3E70GNX8VZx"
      },
      "execution_count": null,
      "outputs": []
    },
    {
      "cell_type": "markdown",
      "source": [
        "### 2] Support Vector Classifier :"
      ],
      "metadata": {
        "id": "IoxroRbM8VZx"
      }
    },
    {
      "cell_type": "code",
      "source": [
        "from sklearn.svm import SVC"
      ],
      "metadata": {
        "execution": {
          "iopub.status.busy": "2022-10-15T08:23:38.026728Z",
          "iopub.execute_input": "2022-10-15T08:23:38.027031Z",
          "iopub.status.idle": "2022-10-15T08:23:38.031419Z",
          "shell.execute_reply.started": "2022-10-15T08:23:38.027Z",
          "shell.execute_reply": "2022-10-15T08:23:38.030521Z"
        },
        "trusted": true,
        "id": "i_hn7lVq8VZx"
      },
      "execution_count": null,
      "outputs": []
    },
    {
      "cell_type": "code",
      "source": [
        "classifier_svc = SVC(kernel = 'linear',C = 0.1)"
      ],
      "metadata": {
        "execution": {
          "iopub.status.busy": "2022-10-15T08:23:38.032561Z",
          "iopub.execute_input": "2022-10-15T08:23:38.032914Z",
          "iopub.status.idle": "2022-10-15T08:23:38.04412Z",
          "shell.execute_reply.started": "2022-10-15T08:23:38.032883Z",
          "shell.execute_reply": "2022-10-15T08:23:38.04311Z"
        },
        "trusted": true,
        "id": "So0LXaOi8VZy"
      },
      "execution_count": null,
      "outputs": []
    },
    {
      "cell_type": "markdown",
      "source": [
        "#### Model based on Correlation Plot :"
      ],
      "metadata": {
        "id": "CXk52ixF8VZy"
      }
    },
    {
      "cell_type": "code",
      "source": [
        "model(classifier_svc,x_train1,y_train1,x_test1,y_test1)\n",
        "model_evaluation(classifier_svc,x_test1,y_test1)"
      ],
      "metadata": {
        "execution": {
          "iopub.status.busy": "2022-10-15T08:23:38.045293Z",
          "iopub.execute_input": "2022-10-15T08:23:38.045772Z",
          "iopub.status.idle": "2022-10-15T08:23:42.074244Z",
          "shell.execute_reply.started": "2022-10-15T08:23:38.045569Z",
          "shell.execute_reply": "2022-10-15T08:23:42.073199Z"
        },
        "trusted": true,
        "id": "FT8gmTrE8VZy"
      },
      "execution_count": null,
      "outputs": []
    },
    {
      "cell_type": "markdown",
      "source": [
        "#### Model based on ANOVA Score :"
      ],
      "metadata": {
        "id": "4B-WpdhF8VZy"
      }
    },
    {
      "cell_type": "code",
      "source": [
        "model(classifier_svc,x_train2,y_train2,x_test2,y_test2)\n",
        "model_evaluation(classifier_svc,x_test2,y_test2)"
      ],
      "metadata": {
        "execution": {
          "iopub.status.busy": "2022-10-15T08:23:42.075445Z",
          "iopub.execute_input": "2022-10-15T08:23:42.075778Z",
          "iopub.status.idle": "2022-10-15T08:23:47.681088Z",
          "shell.execute_reply.started": "2022-10-15T08:23:42.075744Z",
          "shell.execute_reply": "2022-10-15T08:23:47.680061Z"
        },
        "trusted": true,
        "id": "kyQ8BXmC8VZy"
      },
      "execution_count": null,
      "outputs": []
    },
    {
      "cell_type": "markdown",
      "source": [
        "### 3] Decision Tree Classifier :"
      ],
      "metadata": {
        "id": "iPkqU85T8VZz"
      }
    },
    {
      "cell_type": "code",
      "source": [
        "from sklearn.tree import DecisionTreeClassifier"
      ],
      "metadata": {
        "execution": {
          "iopub.status.busy": "2022-10-15T08:23:47.682667Z",
          "iopub.execute_input": "2022-10-15T08:23:47.683085Z",
          "iopub.status.idle": "2022-10-15T08:23:47.688761Z",
          "shell.execute_reply.started": "2022-10-15T08:23:47.683044Z",
          "shell.execute_reply": "2022-10-15T08:23:47.687163Z"
        },
        "trusted": true,
        "id": "vyQyytT18VZz"
      },
      "execution_count": null,
      "outputs": []
    },
    {
      "cell_type": "code",
      "source": [
        "classifier_dt = DecisionTreeClassifier(random_state = 1000,max_depth = 4,min_samples_leaf = 1)"
      ],
      "metadata": {
        "execution": {
          "iopub.status.busy": "2022-10-15T08:23:47.690463Z",
          "iopub.execute_input": "2022-10-15T08:23:47.690928Z",
          "iopub.status.idle": "2022-10-15T08:23:47.708668Z",
          "shell.execute_reply.started": "2022-10-15T08:23:47.690884Z",
          "shell.execute_reply": "2022-10-15T08:23:47.707577Z"
        },
        "trusted": true,
        "id": "MLEYk90a8VZz"
      },
      "execution_count": null,
      "outputs": []
    },
    {
      "cell_type": "markdown",
      "source": [
        "#### Model based on Correlation Plot :"
      ],
      "metadata": {
        "id": "z8iriolc8VZz"
      }
    },
    {
      "cell_type": "code",
      "source": [
        "model(classifier_dt,x_train1,y_train1,x_test1,y_test1)\n",
        "model_evaluation(classifier_dt,x_test1,y_test1)"
      ],
      "metadata": {
        "execution": {
          "iopub.status.busy": "2022-10-15T08:23:47.715124Z",
          "iopub.execute_input": "2022-10-15T08:23:47.715931Z",
          "iopub.status.idle": "2022-10-15T08:23:48.932793Z",
          "shell.execute_reply.started": "2022-10-15T08:23:47.715884Z",
          "shell.execute_reply": "2022-10-15T08:23:48.931713Z"
        },
        "trusted": true,
        "id": "0770I2Fv8VZz"
      },
      "execution_count": null,
      "outputs": []
    },
    {
      "cell_type": "markdown",
      "source": [
        "#### Model based on ANOVA Score :"
      ],
      "metadata": {
        "id": "inAkQdl08VZ0"
      }
    },
    {
      "cell_type": "code",
      "source": [
        "model(classifier_dt,x_train2,y_train2,x_test2,y_test2)\n",
        "model_evaluation(classifier_dt,x_test2,y_test2)"
      ],
      "metadata": {
        "execution": {
          "iopub.status.busy": "2022-10-15T08:23:48.935166Z",
          "iopub.execute_input": "2022-10-15T08:23:48.935538Z",
          "iopub.status.idle": "2022-10-15T08:23:50.95498Z",
          "shell.execute_reply.started": "2022-10-15T08:23:48.935501Z",
          "shell.execute_reply": "2022-10-15T08:23:50.953974Z"
        },
        "trusted": true,
        "id": "CvFduUAF8VZ0"
      },
      "execution_count": null,
      "outputs": []
    },
    {
      "cell_type": "markdown",
      "source": [
        "### 4] Random Forest Classifier :"
      ],
      "metadata": {
        "id": "lr3nxkj18VZ0"
      }
    },
    {
      "cell_type": "code",
      "source": [
        "from sklearn.ensemble import RandomForestClassifier"
      ],
      "metadata": {
        "execution": {
          "iopub.status.busy": "2022-10-15T08:23:50.956429Z",
          "iopub.execute_input": "2022-10-15T08:23:50.956734Z",
          "iopub.status.idle": "2022-10-15T08:23:50.960877Z",
          "shell.execute_reply.started": "2022-10-15T08:23:50.956697Z",
          "shell.execute_reply": "2022-10-15T08:23:50.960085Z"
        },
        "trusted": true,
        "id": "RRADBh5J8VZ0"
      },
      "execution_count": null,
      "outputs": []
    },
    {
      "cell_type": "code",
      "source": [
        "classifier_rf = RandomForestClassifier(max_depth = 4,random_state = 0)"
      ],
      "metadata": {
        "execution": {
          "iopub.status.busy": "2022-10-15T08:23:50.961775Z",
          "iopub.execute_input": "2022-10-15T08:23:50.962037Z",
          "iopub.status.idle": "2022-10-15T08:23:50.972942Z",
          "shell.execute_reply.started": "2022-10-15T08:23:50.962011Z",
          "shell.execute_reply": "2022-10-15T08:23:50.971981Z"
        },
        "trusted": true,
        "id": "bctdG_iG8VZ1"
      },
      "execution_count": null,
      "outputs": []
    },
    {
      "cell_type": "markdown",
      "source": [
        "#### Model based on Correlation Plot :"
      ],
      "metadata": {
        "id": "NVtoKlS58VZ1"
      }
    },
    {
      "cell_type": "code",
      "source": [
        "model(classifier_rf,x_train1,y_train1,x_test1,y_test1)\n",
        "model_evaluation(classifier_rf,x_test1,y_test1)"
      ],
      "metadata": {
        "execution": {
          "iopub.status.busy": "2022-10-15T08:23:50.974163Z",
          "iopub.execute_input": "2022-10-15T08:23:50.974437Z",
          "iopub.status.idle": "2022-10-15T08:24:14.814823Z",
          "shell.execute_reply.started": "2022-10-15T08:23:50.974411Z",
          "shell.execute_reply": "2022-10-15T08:24:14.813774Z"
        },
        "trusted": true,
        "id": "wNHjArmB8VZ1"
      },
      "execution_count": null,
      "outputs": []
    },
    {
      "cell_type": "markdown",
      "source": [
        "#### Model based on ANOVA Score :"
      ],
      "metadata": {
        "id": "WuKrNh0M8VZ1"
      }
    },
    {
      "cell_type": "code",
      "source": [
        "model(classifier_rf,x_train2,y_train2,x_test2,y_test2)\n",
        "model_evaluation(classifier_rf,x_test2,y_test2)"
      ],
      "metadata": {
        "execution": {
          "iopub.status.busy": "2022-10-15T08:24:14.816412Z",
          "iopub.execute_input": "2022-10-15T08:24:14.816774Z",
          "iopub.status.idle": "2022-10-15T08:24:44.181464Z",
          "shell.execute_reply.started": "2022-10-15T08:24:14.816742Z",
          "shell.execute_reply": "2022-10-15T08:24:44.1803Z"
        },
        "trusted": true,
        "id": "Rt7whXlu8VZ1"
      },
      "execution_count": null,
      "outputs": []
    },
    {
      "cell_type": "markdown",
      "source": [
        "### 5] K-Nearest Neighbors :"
      ],
      "metadata": {
        "id": "_C2t_U5P8VZ2"
      }
    },
    {
      "cell_type": "code",
      "source": [
        "from sklearn.neighbors import KNeighborsClassifier"
      ],
      "metadata": {
        "execution": {
          "iopub.status.busy": "2022-10-15T08:24:44.18314Z",
          "iopub.execute_input": "2022-10-15T08:24:44.183511Z",
          "iopub.status.idle": "2022-10-15T08:24:44.188699Z",
          "shell.execute_reply.started": "2022-10-15T08:24:44.183476Z",
          "shell.execute_reply": "2022-10-15T08:24:44.187486Z"
        },
        "trusted": true,
        "id": "4je1njis8VZ2"
      },
      "execution_count": null,
      "outputs": []
    },
    {
      "cell_type": "code",
      "source": [
        "classifier_knn = KNeighborsClassifier(leaf_size = 1, n_neighbors = 3,p = 1)"
      ],
      "metadata": {
        "execution": {
          "iopub.status.busy": "2022-10-15T08:24:44.190831Z",
          "iopub.execute_input": "2022-10-15T08:24:44.191312Z",
          "iopub.status.idle": "2022-10-15T08:24:44.203105Z",
          "shell.execute_reply.started": "2022-10-15T08:24:44.191261Z",
          "shell.execute_reply": "2022-10-15T08:24:44.201792Z"
        },
        "trusted": true,
        "id": "qtDtzbNo8VZ2"
      },
      "execution_count": null,
      "outputs": []
    },
    {
      "cell_type": "markdown",
      "source": [
        "#### Model based on Correlation Plot :"
      ],
      "metadata": {
        "id": "6gg4jgW08VZ2"
      }
    },
    {
      "cell_type": "code",
      "source": [
        "model(classifier_knn,x_train1,y_train1,x_test1,y_test1)\n",
        "model_evaluation(classifier_knn,x_test1,y_test1)"
      ],
      "metadata": {
        "execution": {
          "iopub.status.busy": "2022-10-15T08:24:44.205071Z",
          "iopub.execute_input": "2022-10-15T08:24:44.205581Z",
          "iopub.status.idle": "2022-10-15T08:24:47.785614Z",
          "shell.execute_reply.started": "2022-10-15T08:24:44.205532Z",
          "shell.execute_reply": "2022-10-15T08:24:47.784202Z"
        },
        "trusted": true,
        "id": "fernMrOq8VZ2"
      },
      "execution_count": null,
      "outputs": []
    },
    {
      "cell_type": "markdown",
      "source": [
        "#### Model based on ANOVA Score :"
      ],
      "metadata": {
        "id": "5mlsWtXL8VZ3"
      }
    },
    {
      "cell_type": "code",
      "source": [
        "model(classifier_knn,x_train2,y_train2,x_test2,y_test2)\n",
        "model_evaluation(classifier_knn,x_test2,y_test2)"
      ],
      "metadata": {
        "execution": {
          "iopub.status.busy": "2022-10-15T08:24:47.787431Z",
          "iopub.execute_input": "2022-10-15T08:24:47.787808Z",
          "iopub.status.idle": "2022-10-15T08:24:58.091949Z",
          "shell.execute_reply.started": "2022-10-15T08:24:47.78777Z",
          "shell.execute_reply": "2022-10-15T08:24:58.090841Z"
        },
        "trusted": true,
        "id": "kW_XYLAd8VZ3"
      },
      "execution_count": null,
      "outputs": []
    },
    {
      "cell_type": "markdown",
      "source": [
        "### ML Alogrithm Results Table :\n",
        "\n",
        "#### Results Table for models based on Correlation Plot :\n",
        "\n",
        "|Sr. No.|ML Algorithm|Cross Validation Score|ROC AUC Score|F1 Score (Fraud)|\n",
        "|-|-|-|-|-|\n",
        "|1|Logistic Regression|98.01%|92.35%|91%|\n",
        "|2|Support Vector Classifier|97.94%|92.10%|91%|\n",
        "|3|Decision Tree Classifier|96.67%|91.36%|90%|\n",
        "|4|Random Forest Classifier|97.84%|91.71%|91%|\n",
        "|5|K-Nearest Neighbors|99.34%|97.63%|97%|\n",
        "\n",
        "#### Results Table for models based on ANOVA Score :\n",
        "\n",
        "|Sr. No.|ML Algorithm|Cross Validation Score|ROC AUC Score|F1 Score (Fraud)|\n",
        "|-|-|-|-|-|\n",
        "|1|Logistic Regression|98.45%|94.69%|94%|\n",
        "|2|Support Vector Classifier|98.32%|94.40%|94%|\n",
        "|3|Decision Tree Classifier|97.13%|93.69%|93%|\n",
        "|4|Random Forest Classifier|98.20%|94.06%|94%|\n",
        "|5|K-Nearest Neighbors|99.54%|98.47%|97%|"
      ],
      "metadata": {
        "id": "zPD9JLe68VZ3"
      }
    },
    {
      "cell_type": "markdown",
      "source": [
        "# <center><div style=\"font-family: Trebuchet MS; background-color: #3B3B3C; color: #FFD700; padding: 12px; line-height: 1;\">Conclusion</div></center>\n",
        "\n",
        "- This is a great dataset to learn about binary classification problem with unbalanced data.\n",
        "\n",
        "\n",
        "- As the features are disguised, feature selection cannot be assisted based on the domain knowledge of the topic. Statistical tests hold the complete importance to select features for modeling.  \n",
        "\n",
        "\n",
        "- Due to the use of SMOTE analysis for balancing the data, the models trained on this synthetic data cannot be evaluated using accuracy. Hence, we resort to Cross Validation Score and ROC-AUC Score for model evaluation."
      ],
      "metadata": {
        "id": "pgAwDB-l8VZ3"
      }
    },
    {
      "cell_type": "markdown",
      "source": [
        "### References :\n",
        "- https://www.chargebackgurus.com/blog/credit-card-fraud-detection\n",
        "- https://www.cnbc.com/select/what-is-a-credit-card/\n",
        "- https://www.bajajfinserv.in/credit-card-fraud-in-india\n",
        "- https://www.fortunebusinessinsights.com/industry-reports/fraud-detection-and-prevention-market-100231\n",
        "- [Image Source](https://miro.medium.com/max/800/1*MZ0Qqk7xtHdvJJbUTu_1CQ.jpeg)"
      ],
      "metadata": {
        "id": "-05s9ptq8VZ4"
      }
    },
    {
      "cell_type": "markdown",
      "source": [
        "# <center><div style=\"font-family: Trebuchet MS; background-color: #3B3B3C; color: #FFD700; padding: 12px; line-height: 1;\">Please upvote if you like the work!</div><div style=\"font-family: Trebuchet MS; background-color: #3B3B3C; color: #FFD700; padding: 12px; line-height: 1;\">Any sort of feedback would be appreciated!</div><div style=\"font-family: Trebuchet MS; background-color: #3B3B3C; color: #FFD700; padding: 12px; line-height: 1;\">Thank You!</div></center>"
      ],
      "metadata": {
        "id": "Pz9rCRk98VZ4"
      }
    }
  ]
}